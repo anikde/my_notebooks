{
 "cells": [
  {
   "cell_type": "markdown",
   "id": "d8638282",
   "metadata": {},
   "source": [
    "Links to be followed\n",
    "\n",
    "[Entropy and Information Gain in Decision Trees](https://towardsdatascience.com/entropy-and-information-gain-in-decision-trees-c7db67a3a293)\n",
    "\n",
    "[Python-Decision-Tree-Using-ID3](https://github.com/profthyagu/Python-Decision-Tree-Using-ID3/blob/master/3.Decision%20Tree%20Using%20ID3.ipynb)\n",
    "\n",
    "extras: [What is Entropy and why Information gain matter in Decision Trees?](https://medium.com/coinmonks/what-is-entropy-and-why-information-gain-is-matter-4e85d46d2f01)"
   ]
  },
  {
   "cell_type": "code",
   "execution_count": 12,
   "id": "bf6512aa",
   "metadata": {},
   "outputs": [],
   "source": [
    "import pandas as pd\n",
    "import numpy as np\n",
    "import math"
   ]
  },
  {
   "cell_type": "code",
   "execution_count": 13,
   "id": "080bede3",
   "metadata": {},
   "outputs": [],
   "source": [
    "midwest = pd.read_csv('PlayTennis.csv')"
   ]
  },
  {
   "cell_type": "code",
   "execution_count": 48,
   "id": "682cbd54",
   "metadata": {},
   "outputs": [],
   "source": [
    "def calc_entropy(column):\n",
    "    from collections import Counter\n",
    "    \"\"\"\n",
    "    Calculate the entropy given a pandas series\n",
    "    \"\"\"\n",
    "    # Counyter calculates the proportion of class\n",
    "    counts = Counter(x for x in column)\n",
    "    probabilities = [x / len(column) for x in counts.values()]\n",
    "\n",
    "    \n",
    "    \n",
    "    entropy = 0\n",
    "    for prob in probabilities:\n",
    "        if prob > 0:\n",
    "            entropy += prob * math.log(prob, 2)\n",
    "    return -entropy"
   ]
  },
  {
   "cell_type": "code",
   "execution_count": 50,
   "id": "caf25a44",
   "metadata": {},
   "outputs": [
    {
     "name": "stdout",
     "output_type": "stream",
     "text": [
      "0.9402859586706309\n"
     ]
    }
   ],
   "source": [
    "# array = np.array(midwest['PlayTennis']))\n",
    "\n",
    "en = calc_entropy(np.array(midwest['PlayTennis']))\n",
    "print(en)"
   ]
  },
  {
   "cell_type": "code",
   "execution_count": 80,
   "id": "164b231e",
   "metadata": {},
   "outputs": [],
   "source": [
    "def calc_information_gain(data, split_name, target_name):\n",
    "    original_entropy = calc_entropy(data[target_name])\n",
    "#     print(original_entropy)\n",
    "    \n",
    "    values = data[split_name].unique()\n",
    "    print(values)\n",
    "    flag = 0\n",
    "    if len(values) > 2: flag = 1\n",
    "    \n",
    "    # Making subsets of data based on values in the column\n",
    "    left_split = data[data[split_name] == values[0]]\n",
    "    right_split = data[data[split_name] == values[1]]\n",
    "    if flag==1: \n",
    "        next_split = data[data[split_name] == values[2]]    \n",
    "        fields = [left_split, right_split, next_split]\n",
    "    else:\n",
    "        fields = [left_split, right_split]\n",
    "    \n",
    "    # Loop through the subsets and calculate the entropies\n",
    "    to_subtract = 0\n",
    "    for subset in fields :\n",
    "        prob = (subset.shape[0] / data.shape[0])\n",
    "        print(prob)\n",
    "        to_subtract += prob * calc_entropy(subset[target_name])\n",
    "        \n",
    "    # Return information gain\n",
    "    return original_entropy - to_subtract\n",
    "        \n",
    "    "
   ]
  },
  {
   "cell_type": "code",
   "execution_count": 82,
   "id": "d3fa2625",
   "metadata": {},
   "outputs": [
    {
     "name": "stdout",
     "output_type": "stream",
     "text": [
      "['Sunny' 'Overcast' 'Rain']\n",
      "0.35714285714285715\n",
      "0.2857142857142857\n",
      "0.35714285714285715\n",
      "ig:0.2467498197744391\n"
     ]
    }
   ],
   "source": [
    "ig = calc_information_gain(midwest, 'Outlook', 'PlayTennis')\n",
    "print(\"ig:\"+ str(ig))"
   ]
  },
  {
   "cell_type": "code",
   "execution_count": null,
   "id": "39c25c9d",
   "metadata": {},
   "outputs": [],
   "source": []
  }
 ],
 "metadata": {
  "kernelspec": {
   "display_name": "machineLearning",
   "language": "python",
   "name": "machinelearning"
  },
  "language_info": {
   "codemirror_mode": {
    "name": "ipython",
    "version": 3
   },
   "file_extension": ".py",
   "mimetype": "text/x-python",
   "name": "python",
   "nbconvert_exporter": "python",
   "pygments_lexer": "ipython3",
   "version": "3.8.5"
  }
 },
 "nbformat": 4,
 "nbformat_minor": 5
}
